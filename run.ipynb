{
 "cells": [
  {
   "cell_type": "code",
   "execution_count": 1,
   "id": "9798c3d0",
   "metadata": {},
   "outputs": [],
   "source": [
    "import tensorflow as tf\n",
    "import os\n",
    "import numpy as np\n",
    "\n",
    "imported = tf.saved_model.load(\"mini_modelsaved\")"
   ]
  },
  {
   "cell_type": "code",
   "execution_count": 2,
   "id": "2310173b",
   "metadata": {},
   "outputs": [],
   "source": [
    "def predict(path_wav):\n",
    "\n",
    "    test = tf.io.read_file(path_wav)\n",
    "    waveform, _ = tf.audio.decode_wav(test, desired_channels=1, desired_samples=16000)\n",
    "    waveform = tf.squeeze(waveform, axis=-1)\n",
    "    \n",
    "    output1 = imported(tf.expand_dims(waveform, 0))\n",
    "    output = output1['class_names'].numpy()[0].decode('utf-8')\n",
    "    if output ==  \"zero\":\n",
    "        return 0\n",
    "    elif output ==  \"one\":\n",
    "        return 1\n",
    "    elif output == \"two\":\n",
    "        return 2\n",
    "    elif output == \"three\":\n",
    "        return 3\n",
    "    elif output == \"four\":\n",
    "        return 4\n",
    "    elif output == \"five\":\n",
    "        return 5\n",
    "    elif output == \"six\":\n",
    "        return 6\n",
    "    elif output == \"seven\":\n",
    "        return 7\n",
    "    elif output == \"eight\":\n",
    "        return 8\n",
    "    elif output == \"nine\":\n",
    "        return 9"
   ]
  },
  {
   "cell_type": "code",
   "execution_count": 16,
   "id": "b110d0f3",
   "metadata": {},
   "outputs": [
    {
     "data": {
      "text/plain": [
       "0"
      ]
     },
     "execution_count": 16,
     "metadata": {},
     "output_type": "execute_result"
    }
   ],
   "source": [
    "predict(\"test/0_174.wav\")"
   ]
  },
  {
   "cell_type": "code",
   "execution_count": null,
   "id": "9def0a4d-565e-4e9e-8743-1d70690dc6fd",
   "metadata": {},
   "outputs": [],
   "source": []
  }
 ],
 "metadata": {
  "kernelspec": {
   "display_name": "Python 3 (ipykernel)",
   "language": "python",
   "name": "python3"
  },
  "language_info": {
   "codemirror_mode": {
    "name": "ipython",
    "version": 3
   },
   "file_extension": ".py",
   "mimetype": "text/x-python",
   "name": "python",
   "nbconvert_exporter": "python",
   "pygments_lexer": "ipython3",
   "version": "3.10.4"
  }
 },
 "nbformat": 4,
 "nbformat_minor": 5
}
